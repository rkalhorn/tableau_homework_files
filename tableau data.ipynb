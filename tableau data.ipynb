{
 "cells": [
  {
   "cell_type": "code",
   "execution_count": 17,
   "metadata": {},
   "outputs": [
    {
     "name": "stdout",
     "output_type": "stream",
     "text": [
      "True\n"
     ]
    }
   ],
   "source": [
    "import pandas as pd\n",
    "#Gather as much most recent data and keep under the 15 million Tableau limit on rows\n",
    "bike_201810_df = pd.read_csv(\"201810-citibike-tripdata.csv\")\n",
    "bike_201809_df = pd.read_csv(\"201809-citibike-tripdata.csv\")\n",
    "bike_201808_df = pd.read_csv(\"201808-citibike-tripdata.csv\")\n",
    "bike_201807_df = pd.read_csv(\"201807-citibike-tripdata.csv\")\n",
    "bike_201806_df = pd.read_csv(\"201806-citibike-tripdata.csv\")\n",
    "bike_201805_df = pd.read_csv(\"201805-citibike-tripdata.csv\")\n",
    "bike_201804_df = pd.read_csv(\"201804-citibike-tripdata.csv\")\n",
    "bike_201803_df = pd.read_csv(\"201803-citibike-tripdata.csv\")\n",
    "bike_201802_df = pd.read_csv(\"201802-citibike-tripdata.csv\")\n",
    "\n",
    "#pd.DataFrame.equals(list(bike_201809_df.columns),list(bike_201810_df.columns)\n",
    "print(list(bike_201810_df.columns)==list(bike_201809_df.columns)==list(bike_201808_df.columns)\n",
    "     ==list(bike_201807_df.columns)==list(bike_201806_df.columns)==list(bike_201805_df.columns)\n",
    "     ==list(bike_201804_df.columns)==list(bike_201803_df.columns)==list(bike_201802_df.columns))"
   ]
  },
  {
   "cell_type": "code",
   "execution_count": 19,
   "metadata": {},
   "outputs": [],
   "source": [
    "bike_df = pd.concat([bike_201810_df, bike_201809_df, bike_201808_df, \n",
    "                      bike_201807_df, bike_201806_df, bike_201805_df,\n",
    "                      bike_201804_df, bike_201803_df, bike_201802_df])\n"
   ]
  },
  {
   "cell_type": "code",
   "execution_count": 21,
   "metadata": {},
   "outputs": [],
   "source": [
    "bike_df.to_csv('bike_data_201802_thru_201810.csv')"
   ]
  },
  {
   "cell_type": "code",
   "execution_count": 11,
   "metadata": {},
   "outputs": [
    {
     "data": {
      "text/html": [
       "<div>\n",
       "<style scoped>\n",
       "    .dataframe tbody tr th:only-of-type {\n",
       "        vertical-align: middle;\n",
       "    }\n",
       "\n",
       "    .dataframe tbody tr th {\n",
       "        vertical-align: top;\n",
       "    }\n",
       "\n",
       "    .dataframe thead th {\n",
       "        text-align: right;\n",
       "    }\n",
       "</style>\n",
       "<table border=\"1\" class=\"dataframe\">\n",
       "  <thead>\n",
       "    <tr style=\"text-align: right;\">\n",
       "      <th></th>\n",
       "      <th>tripduration</th>\n",
       "      <th>starttime</th>\n",
       "      <th>stoptime</th>\n",
       "      <th>start station id</th>\n",
       "      <th>start station name</th>\n",
       "      <th>start station latitude</th>\n",
       "      <th>start station longitude</th>\n",
       "      <th>end station id</th>\n",
       "      <th>end station name</th>\n",
       "      <th>end station latitude</th>\n",
       "      <th>end station longitude</th>\n",
       "      <th>bikeid</th>\n",
       "      <th>usertype</th>\n",
       "      <th>birth year</th>\n",
       "      <th>gender</th>\n",
       "    </tr>\n",
       "  </thead>\n",
       "  <tbody>\n",
       "    <tr>\n",
       "      <th>0</th>\n",
       "      <td>330</td>\n",
       "      <td>2018-10-01 00:00:00.7010</td>\n",
       "      <td>2018-10-01 00:05:30.8490</td>\n",
       "      <td>293.0</td>\n",
       "      <td>Lafayette St &amp; E 8 St</td>\n",
       "      <td>40.730207</td>\n",
       "      <td>-73.991026</td>\n",
       "      <td>504.0</td>\n",
       "      <td>1 Ave &amp; E 16 St</td>\n",
       "      <td>40.732219</td>\n",
       "      <td>-73.981656</td>\n",
       "      <td>30493</td>\n",
       "      <td>Subscriber</td>\n",
       "      <td>1995.0</td>\n",
       "      <td>1</td>\n",
       "    </tr>\n",
       "    <tr>\n",
       "      <th>1</th>\n",
       "      <td>309</td>\n",
       "      <td>2018-10-01 00:00:13.5780</td>\n",
       "      <td>2018-10-01 00:05:23.2310</td>\n",
       "      <td>433.0</td>\n",
       "      <td>old - E 13 St &amp; Avenue A</td>\n",
       "      <td>40.729554</td>\n",
       "      <td>-73.980572</td>\n",
       "      <td>394.0</td>\n",
       "      <td>E 9 St &amp; Avenue C</td>\n",
       "      <td>40.725213</td>\n",
       "      <td>-73.977688</td>\n",
       "      <td>33054</td>\n",
       "      <td>Subscriber</td>\n",
       "      <td>1967.0</td>\n",
       "      <td>1</td>\n",
       "    </tr>\n",
       "    <tr>\n",
       "      <th>2</th>\n",
       "      <td>734</td>\n",
       "      <td>2018-10-01 00:00:16.6040</td>\n",
       "      <td>2018-10-01 00:12:31.5050</td>\n",
       "      <td>3472.0</td>\n",
       "      <td>W 15 St &amp; 10 Ave</td>\n",
       "      <td>40.742754</td>\n",
       "      <td>-74.007474</td>\n",
       "      <td>285.0</td>\n",
       "      <td>Broadway &amp; E 14 St</td>\n",
       "      <td>40.734546</td>\n",
       "      <td>-73.990741</td>\n",
       "      <td>33400</td>\n",
       "      <td>Subscriber</td>\n",
       "      <td>1983.0</td>\n",
       "      <td>2</td>\n",
       "    </tr>\n",
       "    <tr>\n",
       "      <th>3</th>\n",
       "      <td>788</td>\n",
       "      <td>2018-10-01 00:00:35.0670</td>\n",
       "      <td>2018-10-01 00:13:43.5780</td>\n",
       "      <td>417.0</td>\n",
       "      <td>Barclay St &amp; Church St</td>\n",
       "      <td>40.712912</td>\n",
       "      <td>-74.010202</td>\n",
       "      <td>3472.0</td>\n",
       "      <td>W 15 St &amp; 10 Ave</td>\n",
       "      <td>40.742754</td>\n",
       "      <td>-74.007474</td>\n",
       "      <td>31140</td>\n",
       "      <td>Customer</td>\n",
       "      <td>1988.0</td>\n",
       "      <td>1</td>\n",
       "    </tr>\n",
       "    <tr>\n",
       "      <th>4</th>\n",
       "      <td>1136</td>\n",
       "      <td>2018-10-01 00:00:38.1410</td>\n",
       "      <td>2018-10-01 00:19:34.6490</td>\n",
       "      <td>3699.0</td>\n",
       "      <td>W 50 St &amp; 9 Ave</td>\n",
       "      <td>40.763605</td>\n",
       "      <td>-73.989180</td>\n",
       "      <td>495.0</td>\n",
       "      <td>W 47 St &amp; 10 Ave</td>\n",
       "      <td>40.762699</td>\n",
       "      <td>-73.993012</td>\n",
       "      <td>20294</td>\n",
       "      <td>Subscriber</td>\n",
       "      <td>1969.0</td>\n",
       "      <td>0</td>\n",
       "    </tr>\n",
       "  </tbody>\n",
       "</table>\n",
       "</div>"
      ],
      "text/plain": [
       "   tripduration                 starttime                  stoptime  \\\n",
       "0           330  2018-10-01 00:00:00.7010  2018-10-01 00:05:30.8490   \n",
       "1           309  2018-10-01 00:00:13.5780  2018-10-01 00:05:23.2310   \n",
       "2           734  2018-10-01 00:00:16.6040  2018-10-01 00:12:31.5050   \n",
       "3           788  2018-10-01 00:00:35.0670  2018-10-01 00:13:43.5780   \n",
       "4          1136  2018-10-01 00:00:38.1410  2018-10-01 00:19:34.6490   \n",
       "\n",
       "   start station id        start station name  start station latitude  \\\n",
       "0             293.0     Lafayette St & E 8 St               40.730207   \n",
       "1             433.0  old - E 13 St & Avenue A               40.729554   \n",
       "2            3472.0          W 15 St & 10 Ave               40.742754   \n",
       "3             417.0    Barclay St & Church St               40.712912   \n",
       "4            3699.0           W 50 St & 9 Ave               40.763605   \n",
       "\n",
       "   start station longitude  end station id    end station name  \\\n",
       "0               -73.991026           504.0     1 Ave & E 16 St   \n",
       "1               -73.980572           394.0   E 9 St & Avenue C   \n",
       "2               -74.007474           285.0  Broadway & E 14 St   \n",
       "3               -74.010202          3472.0    W 15 St & 10 Ave   \n",
       "4               -73.989180           495.0    W 47 St & 10 Ave   \n",
       "\n",
       "   end station latitude  end station longitude  bikeid    usertype  \\\n",
       "0             40.732219             -73.981656   30493  Subscriber   \n",
       "1             40.725213             -73.977688   33054  Subscriber   \n",
       "2             40.734546             -73.990741   33400  Subscriber   \n",
       "3             40.742754             -74.007474   31140    Customer   \n",
       "4             40.762699             -73.993012   20294  Subscriber   \n",
       "\n",
       "   birth year  gender  \n",
       "0      1995.0       1  \n",
       "1      1967.0       1  \n",
       "2      1983.0       2  \n",
       "3      1988.0       1  \n",
       "4      1969.0       0  "
      ]
     },
     "execution_count": 11,
     "metadata": {},
     "output_type": "execute_result"
    }
   ],
   "source": [
    "bike_df.head()"
   ]
  },
  {
   "cell_type": "code",
   "execution_count": 20,
   "metadata": {},
   "outputs": [
    {
     "data": {
      "text/plain": [
       "(14552485, 15)"
      ]
     },
     "execution_count": 20,
     "metadata": {},
     "output_type": "execute_result"
    }
   ],
   "source": [
    "bike_df.shape"
   ]
  },
  {
   "cell_type": "code",
   "execution_count": 40,
   "metadata": {},
   "outputs": [
    {
     "name": "stdout",
     "output_type": "stream",
     "text": [
      "False\n"
     ]
    }
   ],
   "source": [
    "#October Data 2014 through 2018\n",
    "bike_201810_df = pd.read_csv(\"201810-citibike-tripdata.csv\")\n",
    "bike_201810_df['year']=2018\n",
    "bike_201710_df = pd.read_csv(\"201710-citibike-tripdata.csv\")\n",
    "bike_201710_df['year']=2017\n",
    "bike_201610_df = pd.read_csv(\"201610-citibike-tripdata.csv\")\n",
    "bike_201610_df['year']=2016\n",
    "bike_201510_df = pd.read_csv(\"201510-citibike-tripdata.csv\")\n",
    "bike_201510_df['year']=2015\n",
    "bike_201410_df = pd.read_csv(\"201410-citibike-tripdata.csv\")\n",
    "bike_201410_df['year']=2014\n",
    "\n",
    "\n",
    "#pd.DataFrame.equals(list(bike_201809_df.columns),list(bike_201810_df.columns)\n",
    "print(list(bike_201810_df.columns)==list(bike_201710_df.columns)==list(bike_201610_df.columns)\n",
    "     ==list(bike_201510_df.columns)==list(bike_201410_df.columns))\n"
   ]
  },
  {
   "cell_type": "code",
   "execution_count": 41,
   "metadata": {},
   "outputs": [
    {
     "name": "stdout",
     "output_type": "stream",
     "text": [
      "True\n",
      "False\n",
      "True\n",
      "True\n"
     ]
    }
   ],
   "source": [
    "print(list(bike_201810_df.columns)==list(bike_201710_df.columns))\n",
    "print(list(bike_201610_df.columns)==list(bike_201510_df.columns))\n",
    "print(list(bike_201510_df.columns)==list(bike_201410_df.columns))\n",
    "print(list(bike_201810_df.columns)==list(bike_201410_df.columns))\n"
   ]
  },
  {
   "cell_type": "code",
   "execution_count": 42,
   "metadata": {},
   "outputs": [
    {
     "name": "stdout",
     "output_type": "stream",
     "text": [
      "['tripduration', 'starttime', 'stoptime', 'start station id', 'start station name', 'start station latitude', 'start station longitude', 'end station id', 'end station name', 'end station latitude', 'end station longitude', 'bikeid', 'usertype', 'birth year', 'gender', 'year']\n",
      "['Trip Duration', 'Start Time', 'Stop Time', 'Start Station ID', 'Start Station Name', 'Start Station Latitude', 'Start Station Longitude', 'End Station ID', 'End Station Name', 'End Station Latitude', 'End Station Longitude', 'Bike ID', 'User Type', 'Birth Year', 'Gender', 'year']\n"
     ]
    }
   ],
   "source": [
    "print(list(bike_201810_df.columns))\n",
    "print(list(bike_201610_df.columns))\n"
   ]
  },
  {
   "cell_type": "code",
   "execution_count": 43,
   "metadata": {},
   "outputs": [
    {
     "name": "stdout",
     "output_type": "stream",
     "text": [
      "True\n"
     ]
    }
   ],
   "source": [
    "bike_201610_df.columns=list(bike_201810_df.columns)\n",
    "print(list(bike_201810_df.columns)==list(bike_201710_df.columns)==list(bike_201610_df.columns)\n",
    "     ==list(bike_201510_df.columns)==list(bike_201410_df.columns))"
   ]
  },
  {
   "cell_type": "code",
   "execution_count": 44,
   "metadata": {},
   "outputs": [],
   "source": [
    "bike_oct_df = pd.concat([bike_201810_df, bike_201710_df, bike_201610_df, \n",
    "                      bike_201510_df, bike_201410_df])"
   ]
  },
  {
   "cell_type": "code",
   "execution_count": 45,
   "metadata": {},
   "outputs": [
    {
     "data": {
      "text/html": [
       "<div>\n",
       "<style scoped>\n",
       "    .dataframe tbody tr th:only-of-type {\n",
       "        vertical-align: middle;\n",
       "    }\n",
       "\n",
       "    .dataframe tbody tr th {\n",
       "        vertical-align: top;\n",
       "    }\n",
       "\n",
       "    .dataframe thead th {\n",
       "        text-align: right;\n",
       "    }\n",
       "</style>\n",
       "<table border=\"1\" class=\"dataframe\">\n",
       "  <thead>\n",
       "    <tr style=\"text-align: right;\">\n",
       "      <th></th>\n",
       "      <th>tripduration</th>\n",
       "      <th>starttime</th>\n",
       "      <th>stoptime</th>\n",
       "      <th>start station id</th>\n",
       "      <th>start station name</th>\n",
       "      <th>start station latitude</th>\n",
       "      <th>start station longitude</th>\n",
       "      <th>end station id</th>\n",
       "      <th>end station name</th>\n",
       "      <th>end station latitude</th>\n",
       "      <th>end station longitude</th>\n",
       "      <th>bikeid</th>\n",
       "      <th>usertype</th>\n",
       "      <th>birth year</th>\n",
       "      <th>gender</th>\n",
       "      <th>year</th>\n",
       "    </tr>\n",
       "  </thead>\n",
       "  <tbody>\n",
       "    <tr>\n",
       "      <th>0</th>\n",
       "      <td>330</td>\n",
       "      <td>2018-10-01 00:00:00.7010</td>\n",
       "      <td>2018-10-01 00:05:30.8490</td>\n",
       "      <td>293.0</td>\n",
       "      <td>Lafayette St &amp; E 8 St</td>\n",
       "      <td>40.730207</td>\n",
       "      <td>-73.991026</td>\n",
       "      <td>504.0</td>\n",
       "      <td>1 Ave &amp; E 16 St</td>\n",
       "      <td>40.732219</td>\n",
       "      <td>-73.981656</td>\n",
       "      <td>30493</td>\n",
       "      <td>Subscriber</td>\n",
       "      <td>1995.0</td>\n",
       "      <td>1</td>\n",
       "      <td>2018</td>\n",
       "    </tr>\n",
       "    <tr>\n",
       "      <th>1</th>\n",
       "      <td>309</td>\n",
       "      <td>2018-10-01 00:00:13.5780</td>\n",
       "      <td>2018-10-01 00:05:23.2310</td>\n",
       "      <td>433.0</td>\n",
       "      <td>old - E 13 St &amp; Avenue A</td>\n",
       "      <td>40.729554</td>\n",
       "      <td>-73.980572</td>\n",
       "      <td>394.0</td>\n",
       "      <td>E 9 St &amp; Avenue C</td>\n",
       "      <td>40.725213</td>\n",
       "      <td>-73.977688</td>\n",
       "      <td>33054</td>\n",
       "      <td>Subscriber</td>\n",
       "      <td>1967.0</td>\n",
       "      <td>1</td>\n",
       "      <td>2018</td>\n",
       "    </tr>\n",
       "    <tr>\n",
       "      <th>2</th>\n",
       "      <td>734</td>\n",
       "      <td>2018-10-01 00:00:16.6040</td>\n",
       "      <td>2018-10-01 00:12:31.5050</td>\n",
       "      <td>3472.0</td>\n",
       "      <td>W 15 St &amp; 10 Ave</td>\n",
       "      <td>40.742754</td>\n",
       "      <td>-74.007474</td>\n",
       "      <td>285.0</td>\n",
       "      <td>Broadway &amp; E 14 St</td>\n",
       "      <td>40.734546</td>\n",
       "      <td>-73.990741</td>\n",
       "      <td>33400</td>\n",
       "      <td>Subscriber</td>\n",
       "      <td>1983.0</td>\n",
       "      <td>2</td>\n",
       "      <td>2018</td>\n",
       "    </tr>\n",
       "    <tr>\n",
       "      <th>3</th>\n",
       "      <td>788</td>\n",
       "      <td>2018-10-01 00:00:35.0670</td>\n",
       "      <td>2018-10-01 00:13:43.5780</td>\n",
       "      <td>417.0</td>\n",
       "      <td>Barclay St &amp; Church St</td>\n",
       "      <td>40.712912</td>\n",
       "      <td>-74.010202</td>\n",
       "      <td>3472.0</td>\n",
       "      <td>W 15 St &amp; 10 Ave</td>\n",
       "      <td>40.742754</td>\n",
       "      <td>-74.007474</td>\n",
       "      <td>31140</td>\n",
       "      <td>Customer</td>\n",
       "      <td>1988.0</td>\n",
       "      <td>1</td>\n",
       "      <td>2018</td>\n",
       "    </tr>\n",
       "    <tr>\n",
       "      <th>4</th>\n",
       "      <td>1136</td>\n",
       "      <td>2018-10-01 00:00:38.1410</td>\n",
       "      <td>2018-10-01 00:19:34.6490</td>\n",
       "      <td>3699.0</td>\n",
       "      <td>W 50 St &amp; 9 Ave</td>\n",
       "      <td>40.763605</td>\n",
       "      <td>-73.989180</td>\n",
       "      <td>495.0</td>\n",
       "      <td>W 47 St &amp; 10 Ave</td>\n",
       "      <td>40.762699</td>\n",
       "      <td>-73.993012</td>\n",
       "      <td>20294</td>\n",
       "      <td>Subscriber</td>\n",
       "      <td>1969.0</td>\n",
       "      <td>0</td>\n",
       "      <td>2018</td>\n",
       "    </tr>\n",
       "  </tbody>\n",
       "</table>\n",
       "</div>"
      ],
      "text/plain": [
       "   tripduration                 starttime                  stoptime  \\\n",
       "0           330  2018-10-01 00:00:00.7010  2018-10-01 00:05:30.8490   \n",
       "1           309  2018-10-01 00:00:13.5780  2018-10-01 00:05:23.2310   \n",
       "2           734  2018-10-01 00:00:16.6040  2018-10-01 00:12:31.5050   \n",
       "3           788  2018-10-01 00:00:35.0670  2018-10-01 00:13:43.5780   \n",
       "4          1136  2018-10-01 00:00:38.1410  2018-10-01 00:19:34.6490   \n",
       "\n",
       "   start station id        start station name  start station latitude  \\\n",
       "0             293.0     Lafayette St & E 8 St               40.730207   \n",
       "1             433.0  old - E 13 St & Avenue A               40.729554   \n",
       "2            3472.0          W 15 St & 10 Ave               40.742754   \n",
       "3             417.0    Barclay St & Church St               40.712912   \n",
       "4            3699.0           W 50 St & 9 Ave               40.763605   \n",
       "\n",
       "   start station longitude  end station id    end station name  \\\n",
       "0               -73.991026           504.0     1 Ave & E 16 St   \n",
       "1               -73.980572           394.0   E 9 St & Avenue C   \n",
       "2               -74.007474           285.0  Broadway & E 14 St   \n",
       "3               -74.010202          3472.0    W 15 St & 10 Ave   \n",
       "4               -73.989180           495.0    W 47 St & 10 Ave   \n",
       "\n",
       "   end station latitude  end station longitude  bikeid    usertype  \\\n",
       "0             40.732219             -73.981656   30493  Subscriber   \n",
       "1             40.725213             -73.977688   33054  Subscriber   \n",
       "2             40.734546             -73.990741   33400  Subscriber   \n",
       "3             40.742754             -74.007474   31140    Customer   \n",
       "4             40.762699             -73.993012   20294  Subscriber   \n",
       "\n",
       "   birth year  gender  year  \n",
       "0      1995.0       1  2018  \n",
       "1      1967.0       1  2018  \n",
       "2      1983.0       2  2018  \n",
       "3      1988.0       1  2018  \n",
       "4      1969.0       0  2018  "
      ]
     },
     "execution_count": 45,
     "metadata": {},
     "output_type": "execute_result"
    }
   ],
   "source": [
    "bike_oct_df.head()\n",
    "\n"
   ]
  },
  {
   "cell_type": "code",
   "execution_count": 46,
   "metadata": {
    "scrolled": true
   },
   "outputs": [
    {
     "data": {
      "text/plain": [
       "(7391109, 16)"
      ]
     },
     "execution_count": 46,
     "metadata": {},
     "output_type": "execute_result"
    }
   ],
   "source": [
    "bike_oct_df.shape"
   ]
  },
  {
   "cell_type": "code",
   "execution_count": 47,
   "metadata": {},
   "outputs": [],
   "source": [
    "bike_oct_df.to_csv('bike_oct_data_2014_thru_2018.csv')"
   ]
  }
 ],
 "metadata": {
  "kernelspec": {
   "display_name": "Python 3",
   "language": "python",
   "name": "python3"
  },
  "language_info": {
   "codemirror_mode": {
    "name": "ipython",
    "version": 3
   },
   "file_extension": ".py",
   "mimetype": "text/x-python",
   "name": "python",
   "nbconvert_exporter": "python",
   "pygments_lexer": "ipython3",
   "version": "3.6.5"
  }
 },
 "nbformat": 4,
 "nbformat_minor": 2
}
